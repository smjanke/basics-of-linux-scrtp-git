{
 "cells": [
  {
   "cell_type": "markdown",
   "metadata": {
    "vscode": {
     "languageId": "html"
    }
   },
   "source": [
    "# SCRTP Systems Map\n",
    "\n",
    "To be able to make use of a lot of what we have covered we need to know what locations and resources we have access to.\n",
    "To accompany the lecture here are some maps of the SCRTP infrastructure.\n",
    "\n",
    "## Full map \n",
    "\n",
    "This is a full map of the SCRTP kit. The template <variable> is used to show where a individual users information should be substituted."
   ]
  },
  {
   "cell_type": "markdown",
   "metadata": {},
   "source": [
    "![Full system map](./images/SCRTP-Kit-All.drawio.svg)"
   ]
  },
  {
   "cell_type": "markdown",
   "metadata": {},
   "source": [
    "## In this picture\n",
    "\n",
    "### Godzilla\n",
    "\n",
    "Godzilla is the name of one of our servers intended for editing/moving/copying files, short compilations and debugging tests, assembling documents, making plots etc.\n",
    "It can also be used as an access point to the taskfarm, similar to a login node on a HPC system.\n",
    "Godzilla itself can be accessed in by SSH or RDP (either online or via an RDP client).\n",
    "\n",
    "### Taskfarm\n",
    "\n",
    "The Taskfarm is a shared pool of servers that are managed by a batch processing system, they run the same Linux as our managed workstations and Godzilla.\n",
    "The Taskfarm is funded by a core equipment grant so it has equal access and priority to all researchers at Warwick.\n",
    "As seen in the diagram you can submit jobs to the system using a Slurm script which we will cover later.\n",
    "\n",
    "### Storage\n",
    "\n",
    "The SCRTP storage facility provides users with two storage directories one personal and one group. \n",
    "Find more details in the [documentation here](https://docs.scrtp.warwick.ac.uk/linux-pages/storage.html).\n",
    "\n",
    "The directory locations are different depending on which machine you are on.\n",
    "On Godzilla, managed desktops, and the Taskfarm these are mounted from root then `/storage/<groupname>/<username>` and `/home/<groupname>/<username>`.\n",
    "On the HPC they are mounted from root with the prefix `/desktop/...` then the above, the HPC systems also have their own storage.\n",
    "\n",
    "##### You should read the documentation about which storage to use for your given workload. \n",
    "\n",
    "### Avon & Blythe\n",
    "\n",
    "Avon and Blythe are the SCRTP supercomputers.\n",
    "They share more than they differ, see the subsections and images for particulars, but in general...\n",
    "\n",
    "They each have login nodes, login nodes can be accessed by ssh, they have the home and group storage as above mounted under `/desktop`, they have cluster specific home under `/home/<groupname>/<username>/`, they submit jobs to the compute nodes via slurm.\n",
    "\n",
    "They each have compute nodes of varying kinds, all the nodes have the high performance storage mounted they also all have local `/tmp/` storage that gets wiped at the end of your allocation, they do not have the `/desktop/...` mounts so any data/code needs to be moved to the high performance storage or your home on that system before the allocation starts. Finally for IO-intensive workloads you can be allocated a very high performance scratch space.\n",
    "\n",
    "Types of node:\n",
    "- General\n",
    "- GPU\n",
    "- High/Very High Memory\n",
    "- Visulisation\n",
    "- Interactive\n",
    "\n",
    "For details of what hardware is associated with each node and what nodes are in each system see the [hardware overview in the docs](https://docs.scrtp.warwick.ac.uk/hpc-pages/hpc-hardware.html).\n",
    "\n",
    "#### Avon\n",
    "\n",
    "![Avon map](./images/SCRTP-Kit-Avon.drawio.svg)\n",
    "\n",
    "#### Blythe\n",
    "\n",
    "![Blythe map](./images/SCRTP-Kit-Blythe.drawio.svg)"
   ]
  },
  {
   "cell_type": "markdown",
   "metadata": {},
   "source": [
    "### Sulis\n",
    "\n",
    "Sulis is not connected to other SCRTP kit.\n",
    "It is a Tier 2 national Facility managed by the SCRTP. \n",
    "But as you can apply for access to it:\n",
    "\n",
    "![Sulis map](./images/SCRTP-Kit-Sulis.drawio.svg)"
   ]
  }
 ],
 "metadata": {
  "kernelspec": {
   "display_name": "Basics_of_Linux",
   "language": "python",
   "name": "basics_of_linux"
  },
  "language_info": {
   "codemirror_mode": {
    "name": "ipython",
    "version": 3
   },
   "file_extension": ".py",
   "mimetype": "text/x-python",
   "name": "python",
   "nbconvert_exporter": "python",
   "pygments_lexer": "ipython3",
   "version": "3.13.1"
  }
 },
 "nbformat": 4,
 "nbformat_minor": 4
}
